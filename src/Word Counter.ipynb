{
 "cells": [
  {
   "cell_type": "code",
   "execution_count": 8,
   "id": "dac0afbd",
   "metadata": {},
   "outputs": [
    {
     "name": "stdout",
     "output_type": "stream",
     "text": [
      "The word count of Markdown cells in the notebook is: 2004\n"
     ]
    }
   ],
   "source": [
    "import nbformat\n",
    "from bs4 import BeautifulSoup\n",
    "\n",
    "def count_words_in_markdown_cells(notebook_path):\n",
    "    with open(notebook_path, 'r', encoding='utf-8') as notebook_file:\n",
    "        notebook_content = nbformat.read(notebook_file, as_version=4)\n",
    "\n",
    "    word_count = 0\n",
    "\n",
    "    for cell in notebook_content['cells']:\n",
    "        if cell['cell_type'] == 'markdown':\n",
    "            html_content = cell['source']\n",
    "            soup = BeautifulSoup(html_content, 'html.parser')\n",
    "            words = soup.get_text().split()\n",
    "            word_count += len(words)\n",
    "\n",
    "    return word_count\n",
    "\n",
    "notebook_path = 'Kerch_Mepham_NFL_BDB_Submission_Notebook.ipynb'\n",
    "word_count = count_words_in_markdown_cells(notebook_path)\n",
    "print(f'The word count of Markdown cells in the notebook is: {word_count-170}')"
   ]
  },
  {
   "cell_type": "code",
   "execution_count": null,
   "id": "53d15e08",
   "metadata": {},
   "outputs": [],
   "source": []
  }
 ],
 "metadata": {
  "kernelspec": {
   "display_name": "Python 3 (ipykernel)",
   "language": "python",
   "name": "python3"
  },
  "language_info": {
   "codemirror_mode": {
    "name": "ipython",
    "version": 3
   },
   "file_extension": ".py",
   "mimetype": "text/x-python",
   "name": "python",
   "nbconvert_exporter": "python",
   "pygments_lexer": "ipython3",
   "version": "3.9.13"
  }
 },
 "nbformat": 4,
 "nbformat_minor": 5
}
