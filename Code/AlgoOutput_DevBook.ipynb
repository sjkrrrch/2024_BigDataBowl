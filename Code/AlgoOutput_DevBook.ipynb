{
 "cells": [
  {
   "cell_type": "code",
   "execution_count": 1,
   "id": "6c298671",
   "metadata": {},
   "outputs": [],
   "source": [
    "import pandas as pd\n",
    "import numpy as np\n",
    "import matplotlib.pyplot as plt\n",
    "import seaborn as sns\n",
    "from datetime import date\n",
    "import missingno as msno\n",
    "import pickle\n",
    "from tqdm import tqdm\n",
    "from imblearn.over_sampling import RandomOverSampler\n",
    "\n",
    "from statsmodels.stats.outliers_influence import variance_inflation_factor\n",
    "from sklearn.model_selection import cross_val_score\n",
    "from sklearn.model_selection import RepeatedKFold\n",
    "from sklearn.linear_model import Lasso\n",
    "from sklearn.model_selection import RepeatedStratifiedKFold\n",
    "from sklearn.model_selection import GridSearchCV\n",
    "from sklearn.ensemble import RandomForestClassifier\n",
    "from sklearn.ensemble import AdaBoostClassifier\n",
    "from sklearn.tree import DecisionTreeClassifier\n",
    "from sklearn.linear_model import LogisticRegression\n",
    "\n",
    "import xgboost as xg\n",
    "from sklearn.metrics import mean_squared_error\n",
    "\n",
    "from sklearn.metrics import roc_curve, roc_auc_score\n",
    "from sklearn.datasets import make_classification\n",
    "from sklearn.metrics import plot_confusion_matrix\n",
    "from sklearn.metrics import accuracy_score, classification_report, confusion_matrix\n",
    "from sklearn.model_selection import train_test_split\n",
    "\n",
    "pd.set_option('display.max_columns',200)\n",
    "pd.set_option('display.max_rows',1000)\n",
    "\n",
    "import warnings\n",
    "warnings.filterwarnings(\"ignore\")"
   ]
  },
  {
   "cell_type": "code",
   "execution_count": 2,
   "id": "afe450c4",
   "metadata": {},
   "outputs": [
    {
     "name": "stderr",
     "output_type": "stream",
     "text": [
      "\r",
      "  0%|                                                                                                                                                                                     | 0/9 [00:00<?, ?it/s]"
     ]
    },
    {
     "name": "stdout",
     "output_type": "stream",
     "text": [
      "Week 1 -- STARTING\n"
     ]
    },
    {
     "name": "stderr",
     "output_type": "stream",
     "text": [
      "\r",
      " 11%|██████████████████▉                                                                                                                                                       | 1/9 [09:51<1:18:53, 591.70s/it]"
     ]
    },
    {
     "name": "stdout",
     "output_type": "stream",
     "text": [
      "Week 2 -- STARTING\n"
     ]
    },
    {
     "name": "stderr",
     "output_type": "stream",
     "text": [
      "\r",
      " 22%|█████████████████████████████████████▊                                                                                                                                    | 2/9 [19:22<1:07:36, 579.56s/it]"
     ]
    },
    {
     "name": "stdout",
     "output_type": "stream",
     "text": [
      "Week 3 -- STARTING\n"
     ]
    },
    {
     "name": "stderr",
     "output_type": "stream",
     "text": [
      "\r",
      " 33%|█████████████████████████████████████████████████████████▎                                                                                                                  | 3/9 [29:09<58:18, 583.02s/it]"
     ]
    },
    {
     "name": "stdout",
     "output_type": "stream",
     "text": [
      "Week 4 -- STARTING\n"
     ]
    },
    {
     "name": "stderr",
     "output_type": "stream",
     "text": [
      "\r",
      " 44%|████████████████████████████████████████████████████████████████████████████▍                                                                                               | 4/9 [38:57<48:44, 584.97s/it]"
     ]
    },
    {
     "name": "stdout",
     "output_type": "stream",
     "text": [
      "Week 5 -- STARTING\n"
     ]
    },
    {
     "name": "stderr",
     "output_type": "stream",
     "text": [
      "\r",
      " 56%|███████████████████████████████████████████████████████████████████████████████████████████████▌                                                                            | 5/9 [49:18<39:51, 597.92s/it]"
     ]
    },
    {
     "name": "stdout",
     "output_type": "stream",
     "text": [
      "Week 6 -- STARTING\n"
     ]
    },
    {
     "name": "stderr",
     "output_type": "stream",
     "text": [
      "\r",
      " 67%|██████████████████████████████████████████████████████████████████████████████████████████████████████████████████▋                                                         | 6/9 [57:59<28:34, 571.60s/it]"
     ]
    },
    {
     "name": "stdout",
     "output_type": "stream",
     "text": [
      "Week 7 -- STARTING\n"
     ]
    },
    {
     "name": "stderr",
     "output_type": "stream",
     "text": [
      "\r",
      " 78%|████████████████████████████████████████████████████████████████████████████████████████████████████████████████████████████████████▏                                     | 7/9 [1:06:54<18:39, 559.57s/it]"
     ]
    },
    {
     "name": "stdout",
     "output_type": "stream",
     "text": [
      "Week 8 -- STARTING\n"
     ]
    },
    {
     "name": "stderr",
     "output_type": "stream",
     "text": [
      "\r",
      " 89%|███████████████████████████████████████████████████████████████████████████████████████████████████████████████████████████████████████████████████████                   | 8/9 [1:16:37<09:27, 567.25s/it]"
     ]
    },
    {
     "name": "stdout",
     "output_type": "stream",
     "text": [
      "Week 9 -- STARTING\n"
     ]
    },
    {
     "name": "stderr",
     "output_type": "stream",
     "text": [
      "100%|██████████████████████████████████████████████████████████████████████████████████████████████████████████████████████████████████████████████████████████████████████████| 9/9 [1:24:34<00:00, 563.79s/it]\n"
     ]
    }
   ],
   "source": [
    "pbar = tqdm(total=9)\n",
    "for i in range(1,10):\n",
    "    print(f\"Week {i} -- STARTING\")\n",
    "    target_variable = ['tackle']\n",
    "    OVERSAMPLE_FLAG = True\n",
    "\n",
    "    df = pd.read_csv(f'../data/processed/ML_Dataset_Week_{i}.csv').drop('Unnamed: 0',axis=1)\n",
    "    for col in ['SAMP_gameId','SAMP_playId','event','possessionTeam','CLOSEST_OPP_ID']:\n",
    "        try:\n",
    "            df = df.drop(col,axis=1)\n",
    "        except:\n",
    "            pass\n",
    "\n",
    "    off_df = df[df['OFF_DEF_FLAG']=='OFF'].reset_index().drop(['index','OFF_DEF_FLAG'],axis=1)\n",
    "    df = df[df['OFF_DEF_FLAG']=='DEF'].reset_index().drop(['index','OFF_DEF_FLAG'],axis=1)\n",
    "\n",
    "    # Dummify Categoricals\n",
    "    dummy_parent_cols = ['position', 'offenseFormation']\n",
    "    dummy_child_cols = ['position_CB','position_DB','position_DE','position_DT','position_FS','position_ILB',\n",
    "                        'position_MLB','position_NT','position_OLB','position_SS','offenseFormation_EMPTY',\n",
    "                        'offenseFormation_I_FORM','offenseFormation_JUMBO','offenseFormation_PISTOL',\n",
    "                        'offenseFormation_SHOTGUN','offenseFormation_SINGLEBACK','offenseFormation_WILDCAT']\n",
    "\n",
    "    for col in dummy_child_cols:\n",
    "        for prnt_col in dummy_parent_cols:\n",
    "            if prnt_col in col:\n",
    "                for idx,row in df.iterrows():\n",
    "                    if row[prnt_col] == str(col.split('_')[1]):\n",
    "                        df.at[idx,col] = 1\n",
    "                    else:\n",
    "                        df.at[idx,col] = 0\n",
    "\n",
    "    df = df.drop(dummy_parent_cols,axis=1)\n",
    "\n",
    "    # INFO DF\n",
    "    info_df = df[['gameId','playId','nflId','displayName','frameId','time','jerseyNumber','club','x','y','s','a','dis','o',\n",
    "                  'dir','tackle','assist','forcedFumble','pff_missedTackle']]\n",
    "    off_info_df = off_df[['gameId','playId','nflId','displayName','frameId','time','jerseyNumber','club','x','y','s','a','dis','o',\n",
    "                          'dir','tackle','assist','forcedFumble','pff_missedTackle']]\n",
    "    # Input DF\n",
    "    X = df.drop(['gameId','playId','nflId','displayName','frameId','time','jerseyNumber','club',\n",
    "                 'tackle','assist','forcedFumble','pff_missedTackle','playDirection'],axis=1)\n",
    "\n",
    "    assert X.columns.tolist() == ['x','y','s','a','dis','o','dir','weight','height','defendersInTheBox','YardsFromScoring',\n",
    "                                  'quarter','down','yardsToGo','Stadium_Domed','Stadium_Turfed','Kickoff_temp',\n",
    "                                  'Kickoff_dwpt','Kickoff_rhum','Kickoff_prcp','Kickoff_snow','Kickoff_wdir',\n",
    "                                  'Kickoff_wspd','Kickoff_pres','DISTANCE_TO_CLOSEST_OPP','DEF_ORIENTATION',\n",
    "                                  'ENGAGED_IN_BLOCK','DISTANCE_TO_BALL','OPEN_PATH_TO_BALL',\n",
    "                                  'FREE_BLOCKER_W_BALL_CARRIER_FLAG','position_CB','position_DB','position_DE',\n",
    "                                  'position_DT','position_FS','position_ILB','position_MLB','position_NT','position_OLB',\n",
    "                                  'position_SS','offenseFormation_EMPTY','offenseFormation_I_FORM',\n",
    "                                  'offenseFormation_JUMBO','offenseFormation_PISTOL','offenseFormation_SHOTGUN',\n",
    "                                  'offenseFormation_SINGLEBACK','offenseFormation_WILDCAT'], f\"ERROR - X.columns doesn't match expected values\"\n",
    "\n",
    "    # Load The Models\n",
    "    tackle_model = pickle.load(open(f'../models/XGBdart_NFL_BDB_TACKLE_MODEL.sav', 'rb'))\n",
    "    assist_model = pickle.load(open(f'../models/XGBdart_NFL_BDB_ASSIST_MODEL.sav', 'rb'))\n",
    "    forced_fumble_model = pickle.load(open(f'../models/XGBdart_NFL_BDB_FORCED_FUMBLE_MODEL.sav', 'rb'))\n",
    "    missed_tackle_model = pickle.load(open(f'../models/XGBdart_NFL_BDB_MISSED_TACKLE_MODEL.sav', 'rb'))\n",
    "\n",
    "    # Make The Preds\n",
    "    tackle_preds = tackle_model.predict_proba(X)\n",
    "    tackle_preds = pd.DataFrame(tackle_preds)\n",
    "    tackle_preds.columns = ['DEL','p(Tackle)']\n",
    "    tackle_preds = tackle_preds.drop(['DEL'],axis=1)\n",
    "\n",
    "    assist_preds = assist_model.predict_proba(X)\n",
    "    assist_preds = pd.DataFrame(assist_preds)\n",
    "    assist_preds.columns = ['DEL','p(Assist)']\n",
    "    assist_preds = assist_preds.drop(['DEL'],axis=1)\n",
    "\n",
    "    forced_fumble_preds = forced_fumble_model.predict_proba(X)\n",
    "    forced_fumble_preds = pd.DataFrame(forced_fumble_preds)\n",
    "    forced_fumble_preds.columns = ['DEL','p(Forced Fumble)']\n",
    "    forced_fumble_preds = forced_fumble_preds.drop(['DEL'],axis=1)\n",
    "\n",
    "    missed_tackle_preds = missed_tackle_model.predict_proba(X)\n",
    "    missed_tackle_preds = pd.DataFrame(missed_tackle_preds)\n",
    "    missed_tackle_preds.columns = ['DEL','p(Missed Tackle)']\n",
    "    missed_tackle_preds = missed_tackle_preds.drop(['DEL'],axis=1)\n",
    "\n",
    "    # Add To Info DF\n",
    "    info_df['p(Tackle)'] = tackle_preds\n",
    "    info_df['p(Assist)'] = assist_preds\n",
    "    info_df['p(Forced Fumble)'] = forced_fumble_preds\n",
    "    info_df['p(Missed Tackle)'] = missed_tackle_preds\n",
    "\n",
    "    # Merge Back In Offensive Player Tracking Data\n",
    "    for col in info_df.columns.tolist():\n",
    "        if col not in off_info_df.columns.tolist():\n",
    "            off_info_df[col] = ''\n",
    "\n",
    "    info_df = pd.concat([info_df, off_info_df]).reset_index().drop('index',axis=1)\n",
    "\n",
    "    # Serialize The Data\n",
    "    info_df.to_csv(f'../data/processed/algo_output_data_week_{i}.csv')\n",
    "    \n",
    "    pbar.update(1)\n",
    "pbar.close()"
   ]
  },
  {
   "cell_type": "code",
   "execution_count": null,
   "id": "911bd098",
   "metadata": {},
   "outputs": [],
   "source": []
  },
  {
   "cell_type": "code",
   "execution_count": null,
   "id": "9ff4072f",
   "metadata": {},
   "outputs": [],
   "source": []
  },
  {
   "cell_type": "code",
   "execution_count": null,
   "id": "5bd42f4d",
   "metadata": {},
   "outputs": [],
   "source": []
  },
  {
   "cell_type": "code",
   "execution_count": null,
   "id": "a9737c03",
   "metadata": {},
   "outputs": [],
   "source": []
  },
  {
   "cell_type": "code",
   "execution_count": 4,
   "id": "949d74cc",
   "metadata": {},
   "outputs": [],
   "source": [
    "# NO WEATHER MODEL TRAINING (WK 1 ONLY)\n",
    "i=1\n",
    "\n",
    "target_variable = ['tackle']\n",
    "OVERSAMPLE_FLAG = True\n",
    "\n",
    "df = pd.read_csv(f'../data/processed/ML_Dataset_Week_{i}.csv').drop('Unnamed: 0',axis=1)\n",
    "for col in ['SAMP_gameId','SAMP_playId','event','possessionTeam','CLOSEST_OPP_ID']:\n",
    "    try:\n",
    "        df = df.drop(col,axis=1)\n",
    "    except:\n",
    "        pass\n",
    "\n",
    "off_df = df[df['OFF_DEF_FLAG']=='OFF'].reset_index().drop(['index','OFF_DEF_FLAG'],axis=1)\n",
    "df = df[df['OFF_DEF_FLAG']=='DEF'].reset_index().drop(['index','OFF_DEF_FLAG'],axis=1)\n",
    "\n",
    "# Dummify Categoricals\n",
    "dummy_parent_cols = ['position', 'offenseFormation']\n",
    "dummy_child_cols = ['position_CB','position_DB','position_DE','position_DT','position_FS','position_ILB',\n",
    "                    'position_MLB','position_NT','position_OLB','position_SS','offenseFormation_EMPTY',\n",
    "                    'offenseFormation_I_FORM','offenseFormation_JUMBO','offenseFormation_PISTOL',\n",
    "                    'offenseFormation_SHOTGUN','offenseFormation_SINGLEBACK','offenseFormation_WILDCAT']\n",
    "\n",
    "for col in dummy_child_cols:\n",
    "    for prnt_col in dummy_parent_cols:\n",
    "        if prnt_col in col:\n",
    "            for idx,row in df.iterrows():\n",
    "                if row[prnt_col] == str(col.split('_')[1]):\n",
    "                    df.at[idx,col] = 1\n",
    "                else:\n",
    "                    df.at[idx,col] = 0\n",
    "\n",
    "df = df.drop(dummy_parent_cols,axis=1)\n",
    "\n",
    "# INFO DF\n",
    "info_df = df[['gameId','playId','nflId','displayName','frameId','time','jerseyNumber','club','x','y','s','a','dis','o',\n",
    "              'dir','tackle','assist','forcedFumble','pff_missedTackle']]\n",
    "off_info_df = off_df[['gameId','playId','nflId','displayName','frameId','time','jerseyNumber','club','x','y','s','a','dis','o',\n",
    "                      'dir','tackle','assist','forcedFumble','pff_missedTackle']]\n",
    "# Input DF\n",
    "X = df.drop(['gameId','playId','nflId','displayName','frameId','time','jerseyNumber','club',\n",
    "             'tackle','assist','forcedFumble','pff_missedTackle','playDirection','Kickoff_temp',\n",
    "                              'Kickoff_dwpt','Kickoff_rhum','Kickoff_prcp','Kickoff_snow','Kickoff_wdir',\n",
    "                              'Kickoff_wspd','Kickoff_pres'],axis=1)\n",
    "\n",
    "assert X.columns.tolist() == ['x','y','s','a','dis','o','dir','weight','height','defendersInTheBox','YardsFromScoring',\n",
    "                              'quarter','down','yardsToGo','Stadium_Domed','Stadium_Turfed','DISTANCE_TO_CLOSEST_OPP','DEF_ORIENTATION',\n",
    "                              'ENGAGED_IN_BLOCK','DISTANCE_TO_BALL','OPEN_PATH_TO_BALL',\n",
    "                              'FREE_BLOCKER_W_BALL_CARRIER_FLAG','position_CB','position_DB','position_DE',\n",
    "                              'position_DT','position_FS','position_ILB','position_MLB','position_NT','position_OLB',\n",
    "                              'position_SS','offenseFormation_EMPTY','offenseFormation_I_FORM',\n",
    "                              'offenseFormation_JUMBO','offenseFormation_PISTOL','offenseFormation_SHOTGUN',\n",
    "                              'offenseFormation_SINGLEBACK','offenseFormation_WILDCAT'], f\"ERROR - X.columns doesn't match expected values\"\n",
    "\n",
    "# Load The Models\n",
    "tackle_model = pickle.load(open(f'../models/XGBdart_NFL_BDB_TACKLE_MODEL_NO_WEATHER.sav', 'rb'))\n",
    "assist_model = pickle.load(open(f'../models/XGBdart_NFL_BDB_ASSIST_MODEL.sav', 'rb'))\n",
    "forced_fumble_model = pickle.load(open(f'../models/XGBdart_NFL_BDB_FORCED_FUMBLE_MODEL.sav', 'rb'))\n",
    "missed_tackle_model = pickle.load(open(f'../models/XGBdart_NFL_BDB_MISSED_TACKLE_MODEL.sav', 'rb'))\n",
    "\n",
    "# Make The Preds\n",
    "tackle_preds = tackle_model.predict_proba(X)\n",
    "tackle_preds = pd.DataFrame(tackle_preds)\n",
    "tackle_preds.columns = ['DEL','p(Tackle)']\n",
    "tackle_preds = tackle_preds.drop(['DEL'],axis=1)\n",
    "\n",
    "# Add To Info DF\n",
    "info_df['p(Tackle)'] = tackle_preds\n",
    "\n",
    "\n",
    "# Merge Back In Offensive Player Tracking Data\n",
    "for col in info_df.columns.tolist():\n",
    "    if col not in off_info_df.columns.tolist():\n",
    "        off_info_df[col] = ''\n",
    "\n",
    "info_df = pd.concat([info_df, off_info_df]).reset_index().drop('index',axis=1)\n",
    "\n",
    "# Serialize The Data\n",
    "info_df.to_csv(f'../data/processed/algo_output_NO_WEATHER_data_week_{i}.csv')"
   ]
  },
  {
   "cell_type": "code",
   "execution_count": null,
   "id": "267bae89",
   "metadata": {},
   "outputs": [],
   "source": []
  }
 ],
 "metadata": {
  "kernelspec": {
   "display_name": "Python 3 (ipykernel)",
   "language": "python",
   "name": "python3"
  },
  "language_info": {
   "codemirror_mode": {
    "name": "ipython",
    "version": 3
   },
   "file_extension": ".py",
   "mimetype": "text/x-python",
   "name": "python",
   "nbconvert_exporter": "python",
   "pygments_lexer": "ipython3",
   "version": "3.9.13"
  }
 },
 "nbformat": 4,
 "nbformat_minor": 5
}
